{
 "cells": [
  {
   "cell_type": "markdown",
   "id": "f1e2c9c8-34cc-4149-a502-041020deda4c",
   "metadata": {},
   "source": [
    "### Top Repositories for Github Topics"
   ]
  },
  {
   "cell_type": "code",
   "execution_count": null,
   "id": "1a756aeb-bb1c-4379-a0bb-32eb6d3d9d02",
   "metadata": {},
   "outputs": [],
   "source": []
  },
  {
   "cell_type": "markdown",
   "id": "ddd10a9f-b0c3-4d42-92cf-0f17a67a306c",
   "metadata": {},
   "source": [
    "### Pick a website and describe your objective\r\n",
    "\r\n",
    "- Browse through different sites and pick on to scrape. Check the \"Project Ideas\" section for inspiration.\r\n",
    "- Identify the information you'd like to scrape from the site. Decide the format of the output CSV file.\r\n",
    "- Summarize your project idea and outline your strategy in a Juptyer notebook. Use the \"New\" button above.\n"
   ]
  },
  {
   "cell_type": "markdown",
   "id": "742f3786-bc91-43ed-8774-007a8fb1933d",
   "metadata": {},
   "source": [
    "### Project Outline\n",
    "\n",
    "-We are going to scrape https://github.com/topics\n",
    "-We'll get a list of topics. For each topic we get a topic title, topic page url and topic description.\n",
    "-For each topic, we'll get top 25 repositories in the topic from the topic page. \n",
    "-For each repository, we'll get the repo name, username, stars and repo url \n",
    "-For each topic we'll create a CSV file in the following format \n",
    "\n",
    "Repo Name, Username, Stars, Repo Url \n",
    " three.js, mrdoob, 96300, https://github.com/mrdoob/three.js\n",
    " libgdx, libgdx, 22300, https://github.com/libgdx/libgdx\n",
    "\n",
    "\n",
    "\n",
    "\n"
   ]
  },
  {
   "cell_type": "code",
   "execution_count": null,
   "id": "516ba8a5-4ac3-4ace-8c86-d1c2dcf86d17",
   "metadata": {},
   "outputs": [],
   "source": []
  },
  {
   "cell_type": "code",
   "execution_count": null,
   "id": "7939cb3f-9ac9-4c2a-b4ef-448f3d363544",
   "metadata": {},
   "outputs": [],
   "source": []
  },
  {
   "cell_type": "markdown",
   "id": "eec1d80b-a63c-4257-8f4e-0f6ce361ca8e",
   "metadata": {},
   "source": [
    "### Use the requests library to download web pages\n"
   ]
  },
  {
   "cell_type": "code",
   "execution_count": 9,
   "id": "f3c54776-017e-4216-b1ff-04ed80797edc",
   "metadata": {},
   "outputs": [],
   "source": [
    "!pip install requests --upgrade --quiet"
   ]
  },
  {
   "cell_type": "code",
   "execution_count": 11,
   "id": "6268db93-58ef-44be-995c-20f42bb8a52e",
   "metadata": {},
   "outputs": [],
   "source": [
    "import requests "
   ]
  },
  {
   "cell_type": "code",
   "execution_count": 12,
   "id": "550174ef-8fa8-4295-9556-6883d68fae82",
   "metadata": {},
   "outputs": [],
   "source": [
    "topics_url = 'https://github.com/topics'"
   ]
  },
  {
   "cell_type": "code",
   "execution_count": 13,
   "id": "44aefbd5-2935-4e20-a456-b56803d01898",
   "metadata": {},
   "outputs": [],
   "source": [
    "response = requests.get(topics_url)"
   ]
  },
  {
   "cell_type": "code",
   "execution_count": 14,
   "id": "39bb02b7-cab7-4b38-b387-c30d288483b8",
   "metadata": {},
   "outputs": [
    {
     "data": {
      "text/plain": [
       "200"
      ]
     },
     "execution_count": 14,
     "metadata": {},
     "output_type": "execute_result"
    }
   ],
   "source": [
    "response.status_code"
   ]
  },
  {
   "cell_type": "code",
   "execution_count": 15,
   "id": "cbc9eb41-7d1b-40ff-b7b0-a3fc49dd9cac",
   "metadata": {},
   "outputs": [
    {
     "data": {
      "text/plain": [
       "170766"
      ]
     },
     "execution_count": 15,
     "metadata": {},
     "output_type": "execute_result"
    }
   ],
   "source": [
    "len(response.text)"
   ]
  },
  {
   "cell_type": "code",
   "execution_count": 16,
   "id": "0435f358-81b7-4d9c-b729-81ec542fac2a",
   "metadata": {},
   "outputs": [],
   "source": [
    "page_contents = response.text "
   ]
  },
  {
   "cell_type": "code",
   "execution_count": 20,
   "id": "570993f8-bc4a-44a8-8f76-dace0624252b",
   "metadata": {},
   "outputs": [
    {
     "data": {
      "text/plain": [
       "'\\n\\n<!DOCTYPE html>\\n<html lang=\"en\" data-color-mode=\"auto\" data-light-theme=\"light\" data-dark-theme=\"dark\"  data-a11y-animated-images=\"system\" data-a11y-link-underlines=\"true\">\\n\\n\\n\\n\\n  <head>\\n    <meta charset=\"utf-8\">\\n  <link rel=\"dns-prefetch\" href=\"https://github.githubassets.com\">\\n  <link rel=\"dns-prefetch\" href=\"https://avatars.githubusercontent.com\">\\n  <link rel=\"dns-prefetch\" href=\"https://github-cloud.s3.amazonaws.com\">\\n  <link rel=\"dns-prefetch\" href=\"https://user-images.githubusercontent.com/\">\\n  <link rel=\"preconnect\" href=\"https://github.githubassets.com\" crossorigin>\\n  <link rel=\"preconnect\" href=\"https://avatars.githubusercontent.com\">\\n\\n  \\n\\n  <link crossorigin=\"anonymous\" media=\"all\" rel=\"stylesheet\" href=\"https://github.githubassets.com/assets/light-38f1bf52eeeb.css\" /><link crossorigin=\"anonymous\" media=\"all\" rel=\"stylesheet\" href=\"https://github.githubassets.com/assets/dark-56010aa53a8f.css\" /><link data-color-theme=\"dark_dimmed\" crossorigin=\"anonymous\" media=\"all\" rel=\"stylesheet\" data-href=\"https://github.githubassets.com/assets/dark_dimmed-b2e1b478d5b4.css\" /><link data-color-theme=\"dark_high_contrast\" crossorigin=\"anonymous\" media=\"all\" rel=\"stylesheet\" data-href=\"https://github.githubassets.com/assets/dark_high_contrast-e7f12ffa82f3.css\" /><link data-color-theme=\"dark_colorblind\" crossorigin=\"anonymous\" media=\"all\" rel=\"stylesheet\" data-href=\"https://github.githubassets.com/assets/dark_colorblind-ddca79c20026.css\" /><link data-color-theme=\"light_colorblind\" '"
      ]
     },
     "execution_count": 20,
     "metadata": {},
     "output_type": "execute_result"
    }
   ],
   "source": [
    "page_contents[:1500]"
   ]
  },
  {
   "cell_type": "code",
   "execution_count": 25,
   "id": "3b204e44-449c-49f4-99e4-fa725e205785",
   "metadata": {},
   "outputs": [],
   "source": [
    "with open('webpage.html', \"w\", encoding=\"utf-8\") as f:\n",
    "    f.write(page_contents)"
   ]
  },
  {
   "cell_type": "markdown",
   "id": "4884900c-b8f1-49db-a964-d5f0d6eaa3c7",
   "metadata": {},
   "source": [
    "### Use Beautiful Soup to parse and extract information"
   ]
  },
  {
   "cell_type": "code",
   "execution_count": 28,
   "id": "4403044f-2553-42ea-bdf4-250d49797b88",
   "metadata": {},
   "outputs": [],
   "source": [
    "!pip install beautifulsoup4 --upgrade --quiet"
   ]
  },
  {
   "cell_type": "code",
   "execution_count": 29,
   "id": "b8378af2-19a5-47d0-9d55-cffe204c60e6",
   "metadata": {},
   "outputs": [],
   "source": [
    "from bs4 import BeautifulSoup "
   ]
  },
  {
   "cell_type": "code",
   "execution_count": 30,
   "id": "4e842330-546e-4541-a025-98e002ae6ba8",
   "metadata": {},
   "outputs": [],
   "source": [
    "doc = BeautifulSoup(page_contents, 'html.parser')"
   ]
  },
  {
   "cell_type": "code",
   "execution_count": 31,
   "id": "0899bf1f-f642-45f1-95a6-b0bc7514a98b",
   "metadata": {},
   "outputs": [
    {
     "data": {
      "text/plain": [
       "bs4.BeautifulSoup"
      ]
     },
     "execution_count": 31,
     "metadata": {},
     "output_type": "execute_result"
    }
   ],
   "source": [
    "type(doc)"
   ]
  },
  {
   "cell_type": "code",
   "execution_count": 42,
   "id": "9c5cc662-a8b2-496b-936d-17dec318a8d6",
   "metadata": {},
   "outputs": [],
   "source": [
    "selection_class = 'f3 lh-condensed mb-0 mt-1 Link--primary'\n",
    "\n",
    "topic_title_tags = doc.find_all('p', {'class' : selection_class})"
   ]
  },
  {
   "cell_type": "code",
   "execution_count": 43,
   "id": "8e2bdee5-39d7-40ea-b3ec-84488e96dcac",
   "metadata": {},
   "outputs": [
    {
     "data": {
      "text/plain": [
       "30"
      ]
     },
     "execution_count": 43,
     "metadata": {},
     "output_type": "execute_result"
    }
   ],
   "source": [
    "len(topic_title_tags)"
   ]
  },
  {
   "cell_type": "code",
   "execution_count": 45,
   "id": "dcad3bef-cb01-4dde-9fee-3d7778cd8b92",
   "metadata": {},
   "outputs": [
    {
     "data": {
      "text/plain": [
       "[<p class=\"f3 lh-condensed mb-0 mt-1 Link--primary\">3D</p>,\n",
       " <p class=\"f3 lh-condensed mb-0 mt-1 Link--primary\">Ajax</p>,\n",
       " <p class=\"f3 lh-condensed mb-0 mt-1 Link--primary\">Algorithm</p>,\n",
       " <p class=\"f3 lh-condensed mb-0 mt-1 Link--primary\">Amp</p>,\n",
       " <p class=\"f3 lh-condensed mb-0 mt-1 Link--primary\">Android</p>]"
      ]
     },
     "execution_count": 45,
     "metadata": {},
     "output_type": "execute_result"
    }
   ],
   "source": [
    "topic_title_tags [:5]"
   ]
  },
  {
   "cell_type": "code",
   "execution_count": 49,
   "id": "ca7d3c17-b931-449b-bc0d-541e8ac87ced",
   "metadata": {},
   "outputs": [],
   "source": [
    "desc_selector = 'f5 color-fg-muted mb-0 mt-1'\n",
    "topic_desc_tags = doc.find_all('p', {'class' : desc_selector})"
   ]
  },
  {
   "cell_type": "code",
   "execution_count": 50,
   "id": "329f6e05-3efd-4200-a71a-7fa8a702a839",
   "metadata": {},
   "outputs": [
    {
     "data": {
      "text/plain": [
       "[<p class=\"f5 color-fg-muted mb-0 mt-1\">\n",
       "           3D refers to the use of three-dimensional graphics, modeling, and animation in various industries.\n",
       "         </p>,\n",
       " <p class=\"f5 color-fg-muted mb-0 mt-1\">\n",
       "           Ajax is a technique for creating interactive web applications.\n",
       "         </p>,\n",
       " <p class=\"f5 color-fg-muted mb-0 mt-1\">\n",
       "           Algorithms are self-contained sequences that carry out a variety of tasks.\n",
       "         </p>,\n",
       " <p class=\"f5 color-fg-muted mb-0 mt-1\">\n",
       "           Amp is a non-blocking concurrency library for PHP.\n",
       "         </p>,\n",
       " <p class=\"f5 color-fg-muted mb-0 mt-1\">\n",
       "           Android is an operating system built by Google designed for mobile devices.\n",
       "         </p>]"
      ]
     },
     "execution_count": 50,
     "metadata": {},
     "output_type": "execute_result"
    }
   ],
   "source": [
    "topic_desc_tags[:5]"
   ]
  },
  {
   "cell_type": "code",
   "execution_count": 51,
   "id": "f489f89f-e434-43c4-b9b8-9e504a272b24",
   "metadata": {},
   "outputs": [],
   "source": [
    "topic_title_tag0 = topic_title_tags[0]"
   ]
  },
  {
   "cell_type": "code",
   "execution_count": 55,
   "id": "3595d914-27d2-4399-a383-6e863660d630",
   "metadata": {},
   "outputs": [],
   "source": [
    "div_tag = topic_title_tag0.parent"
   ]
  },
  {
   "cell_type": "code",
   "execution_count": 56,
   "id": "64eee5f7-aea5-41c6-b7ca-9e5a6800fbcf",
   "metadata": {},
   "outputs": [],
   "source": [
    "topic_link_tags = doc.find_all('a', {'class' : 'no-underline flex-1 d-flex flex-column'})"
   ]
  },
  {
   "cell_type": "code",
   "execution_count": 57,
   "id": "6b229159-893f-40ab-851e-34101123c0e8",
   "metadata": {},
   "outputs": [
    {
     "data": {
      "text/plain": [
       "30"
      ]
     },
     "execution_count": 57,
     "metadata": {},
     "output_type": "execute_result"
    }
   ],
   "source": [
    "len(topic_link_tags)"
   ]
  },
  {
   "cell_type": "code",
   "execution_count": 61,
   "id": "025ccefb-a890-4930-88c1-ec27c6eb9e95",
   "metadata": {},
   "outputs": [
    {
     "name": "stdout",
     "output_type": "stream",
     "text": [
      "https://github.com/topics/3d\n"
     ]
    }
   ],
   "source": [
    "topic0_url = \"https://github.com\" + topic_link_tags[0]['href']\n",
    "print(topic0_url)\n",
    "\n"
   ]
  },
  {
   "cell_type": "code",
   "execution_count": 63,
   "id": "4c4c9042-d2c0-44dc-bc4b-87bb8300e954",
   "metadata": {},
   "outputs": [
    {
     "name": "stdout",
     "output_type": "stream",
     "text": [
      "['3D', 'Ajax', 'Algorithm', 'Amp', 'Android', 'Angular', 'Ansible', 'API', 'Arduino', 'ASP.NET', 'Atom', 'Awesome Lists', 'Amazon Web Services', 'Azure', 'Babel', 'Bash', 'Bitcoin', 'Bootstrap', 'Bot', 'C', 'Chrome', 'Chrome extension', 'Command line interface', 'Clojure', 'Code quality', 'Code review', 'Compiler', 'Continuous integration', 'COVID-19', 'C++']\n"
     ]
    }
   ],
   "source": [
    "topic_titles = []\n",
    "\n",
    "for tag in topic_title_tags: \n",
    "   topic_titles.append(tag.text) \n",
    "\n",
    "print(topic_titles) "
   ]
  },
  {
   "cell_type": "code",
   "execution_count": 67,
   "id": "d6fe664a-09aa-4219-b3f2-0bd2923b770e",
   "metadata": {},
   "outputs": [
    {
     "data": {
      "text/plain": [
       "['3D refers to the use of three-dimensional graphics, modeling, and animation in various industries.',\n",
       " 'Ajax is a technique for creating interactive web applications.',\n",
       " 'Algorithms are self-contained sequences that carry out a variety of tasks.',\n",
       " 'Amp is a non-blocking concurrency library for PHP.',\n",
       " 'Android is an operating system built by Google designed for mobile devices.']"
      ]
     },
     "execution_count": 67,
     "metadata": {},
     "output_type": "execute_result"
    }
   ],
   "source": [
    "topic_descs = []\n",
    "\n",
    "for tag in topic_desc_tags: \n",
    "   topic_descs.append(tag.text.strip())\n",
    "\n",
    "topic_descs[:5]"
   ]
  },
  {
   "cell_type": "code",
   "execution_count": 69,
   "id": "3cd6aca6-9f20-4e1d-b8ac-1266abc26f8a",
   "metadata": {},
   "outputs": [
    {
     "data": {
      "text/plain": [
       "['https://github.com/topics/3d',\n",
       " 'https://github.com/topics/ajax',\n",
       " 'https://github.com/topics/algorithm',\n",
       " 'https://github.com/topics/amphp',\n",
       " 'https://github.com/topics/android',\n",
       " 'https://github.com/topics/angular',\n",
       " 'https://github.com/topics/ansible',\n",
       " 'https://github.com/topics/api',\n",
       " 'https://github.com/topics/arduino',\n",
       " 'https://github.com/topics/aspnet',\n",
       " 'https://github.com/topics/atom',\n",
       " 'https://github.com/topics/awesome',\n",
       " 'https://github.com/topics/aws',\n",
       " 'https://github.com/topics/azure',\n",
       " 'https://github.com/topics/babel',\n",
       " 'https://github.com/topics/bash',\n",
       " 'https://github.com/topics/bitcoin',\n",
       " 'https://github.com/topics/bootstrap',\n",
       " 'https://github.com/topics/bot',\n",
       " 'https://github.com/topics/c',\n",
       " 'https://github.com/topics/chrome',\n",
       " 'https://github.com/topics/chrome-extension',\n",
       " 'https://github.com/topics/cli',\n",
       " 'https://github.com/topics/clojure',\n",
       " 'https://github.com/topics/code-quality',\n",
       " 'https://github.com/topics/code-review',\n",
       " 'https://github.com/topics/compiler',\n",
       " 'https://github.com/topics/continuous-integration',\n",
       " 'https://github.com/topics/covid-19',\n",
       " 'https://github.com/topics/cpp']"
      ]
     },
     "execution_count": 69,
     "metadata": {},
     "output_type": "execute_result"
    }
   ],
   "source": [
    "topic_urls = []\n",
    "base_url = 'https://github.com'\n",
    "\n",
    "for tag in topic_link_tags: \n",
    "    topic_urls.append(base_url + tag['href']) \n",
    "topic_urls "
   ]
  },
  {
   "cell_type": "code",
   "execution_count": 71,
   "id": "bbf5414b-e1c6-4869-85ef-eb76f2270e73",
   "metadata": {},
   "outputs": [],
   "source": [
    "!pip install pandas --quiet "
   ]
  },
  {
   "cell_type": "code",
   "execution_count": 73,
   "id": "590ccf44-d86e-49bc-8d3c-884166e6bc11",
   "metadata": {},
   "outputs": [],
   "source": [
    "import pandas as pd "
   ]
  },
  {
   "cell_type": "code",
   "execution_count": 75,
   "id": "3a1da3cc-95b7-426b-843c-289f8d62a86b",
   "metadata": {},
   "outputs": [],
   "source": [
    "topics_dict = { \n",
    "    'title': topic_titles, \n",
    "    'description': topic_descs, \n",
    "    'url': topic_urls\n",
    "}"
   ]
  },
  {
   "cell_type": "code",
   "execution_count": 76,
   "id": "1a654575-a34a-476b-a4aa-763b1ee12166",
   "metadata": {},
   "outputs": [],
   "source": [
    "topics_df = pd.DataFrame(topics_dict)"
   ]
  },
  {
   "cell_type": "code",
   "execution_count": 77,
   "id": "42d933df-01d4-43b7-a83e-265705e2e5e5",
   "metadata": {
    "scrolled": true
   },
   "outputs": [
    {
     "data": {
      "text/html": [
       "<div>\n",
       "<style scoped>\n",
       "    .dataframe tbody tr th:only-of-type {\n",
       "        vertical-align: middle;\n",
       "    }\n",
       "\n",
       "    .dataframe tbody tr th {\n",
       "        vertical-align: top;\n",
       "    }\n",
       "\n",
       "    .dataframe thead th {\n",
       "        text-align: right;\n",
       "    }\n",
       "</style>\n",
       "<table border=\"1\" class=\"dataframe\">\n",
       "  <thead>\n",
       "    <tr style=\"text-align: right;\">\n",
       "      <th></th>\n",
       "      <th>title</th>\n",
       "      <th>description</th>\n",
       "      <th>url</th>\n",
       "    </tr>\n",
       "  </thead>\n",
       "  <tbody>\n",
       "    <tr>\n",
       "      <th>0</th>\n",
       "      <td>3D</td>\n",
       "      <td>3D refers to the use of three-dimensional grap...</td>\n",
       "      <td>https://github.com/topics/3d</td>\n",
       "    </tr>\n",
       "    <tr>\n",
       "      <th>1</th>\n",
       "      <td>Ajax</td>\n",
       "      <td>Ajax is a technique for creating interactive w...</td>\n",
       "      <td>https://github.com/topics/ajax</td>\n",
       "    </tr>\n",
       "    <tr>\n",
       "      <th>2</th>\n",
       "      <td>Algorithm</td>\n",
       "      <td>Algorithms are self-contained sequences that c...</td>\n",
       "      <td>https://github.com/topics/algorithm</td>\n",
       "    </tr>\n",
       "    <tr>\n",
       "      <th>3</th>\n",
       "      <td>Amp</td>\n",
       "      <td>Amp is a non-blocking concurrency library for ...</td>\n",
       "      <td>https://github.com/topics/amphp</td>\n",
       "    </tr>\n",
       "    <tr>\n",
       "      <th>4</th>\n",
       "      <td>Android</td>\n",
       "      <td>Android is an operating system built by Google...</td>\n",
       "      <td>https://github.com/topics/android</td>\n",
       "    </tr>\n",
       "    <tr>\n",
       "      <th>5</th>\n",
       "      <td>Angular</td>\n",
       "      <td>Angular is an open source web application plat...</td>\n",
       "      <td>https://github.com/topics/angular</td>\n",
       "    </tr>\n",
       "    <tr>\n",
       "      <th>6</th>\n",
       "      <td>Ansible</td>\n",
       "      <td>Ansible is a simple and powerful automation en...</td>\n",
       "      <td>https://github.com/topics/ansible</td>\n",
       "    </tr>\n",
       "    <tr>\n",
       "      <th>7</th>\n",
       "      <td>API</td>\n",
       "      <td>An API (Application Programming Interface) is ...</td>\n",
       "      <td>https://github.com/topics/api</td>\n",
       "    </tr>\n",
       "    <tr>\n",
       "      <th>8</th>\n",
       "      <td>Arduino</td>\n",
       "      <td>Arduino is an open source platform for buildin...</td>\n",
       "      <td>https://github.com/topics/arduino</td>\n",
       "    </tr>\n",
       "    <tr>\n",
       "      <th>9</th>\n",
       "      <td>ASP.NET</td>\n",
       "      <td>ASP.NET is a web framework for building modern...</td>\n",
       "      <td>https://github.com/topics/aspnet</td>\n",
       "    </tr>\n",
       "    <tr>\n",
       "      <th>10</th>\n",
       "      <td>Atom</td>\n",
       "      <td>Atom is a open source text editor built with w...</td>\n",
       "      <td>https://github.com/topics/atom</td>\n",
       "    </tr>\n",
       "    <tr>\n",
       "      <th>11</th>\n",
       "      <td>Awesome Lists</td>\n",
       "      <td>An awesome list is a list of awesome things cu...</td>\n",
       "      <td>https://github.com/topics/awesome</td>\n",
       "    </tr>\n",
       "    <tr>\n",
       "      <th>12</th>\n",
       "      <td>Amazon Web Services</td>\n",
       "      <td>Amazon Web Services provides on-demand cloud c...</td>\n",
       "      <td>https://github.com/topics/aws</td>\n",
       "    </tr>\n",
       "    <tr>\n",
       "      <th>13</th>\n",
       "      <td>Azure</td>\n",
       "      <td>Azure is a cloud computing service created by ...</td>\n",
       "      <td>https://github.com/topics/azure</td>\n",
       "    </tr>\n",
       "    <tr>\n",
       "      <th>14</th>\n",
       "      <td>Babel</td>\n",
       "      <td>Babel is a compiler for writing next generatio...</td>\n",
       "      <td>https://github.com/topics/babel</td>\n",
       "    </tr>\n",
       "    <tr>\n",
       "      <th>15</th>\n",
       "      <td>Bash</td>\n",
       "      <td>Bash is a shell and command language interpret...</td>\n",
       "      <td>https://github.com/topics/bash</td>\n",
       "    </tr>\n",
       "    <tr>\n",
       "      <th>16</th>\n",
       "      <td>Bitcoin</td>\n",
       "      <td>Bitcoin is a cryptocurrency developed by Satos...</td>\n",
       "      <td>https://github.com/topics/bitcoin</td>\n",
       "    </tr>\n",
       "    <tr>\n",
       "      <th>17</th>\n",
       "      <td>Bootstrap</td>\n",
       "      <td>Bootstrap is an HTML, CSS, and JavaScript fram...</td>\n",
       "      <td>https://github.com/topics/bootstrap</td>\n",
       "    </tr>\n",
       "    <tr>\n",
       "      <th>18</th>\n",
       "      <td>Bot</td>\n",
       "      <td>A bot is an application that runs automated ta...</td>\n",
       "      <td>https://github.com/topics/bot</td>\n",
       "    </tr>\n",
       "    <tr>\n",
       "      <th>19</th>\n",
       "      <td>C</td>\n",
       "      <td>C is a general purpose programming language th...</td>\n",
       "      <td>https://github.com/topics/c</td>\n",
       "    </tr>\n",
       "    <tr>\n",
       "      <th>20</th>\n",
       "      <td>Chrome</td>\n",
       "      <td>Chrome is a web browser from the tech company ...</td>\n",
       "      <td>https://github.com/topics/chrome</td>\n",
       "    </tr>\n",
       "    <tr>\n",
       "      <th>21</th>\n",
       "      <td>Chrome extension</td>\n",
       "      <td>Chrome extensions enable users to customize th...</td>\n",
       "      <td>https://github.com/topics/chrome-extension</td>\n",
       "    </tr>\n",
       "    <tr>\n",
       "      <th>22</th>\n",
       "      <td>Command line interface</td>\n",
       "      <td>A CLI, or command-line interface, is a console...</td>\n",
       "      <td>https://github.com/topics/cli</td>\n",
       "    </tr>\n",
       "    <tr>\n",
       "      <th>23</th>\n",
       "      <td>Clojure</td>\n",
       "      <td>Clojure is a dynamic, general-purpose programm...</td>\n",
       "      <td>https://github.com/topics/clojure</td>\n",
       "    </tr>\n",
       "    <tr>\n",
       "      <th>24</th>\n",
       "      <td>Code quality</td>\n",
       "      <td>Automate your code review with style, quality,...</td>\n",
       "      <td>https://github.com/topics/code-quality</td>\n",
       "    </tr>\n",
       "    <tr>\n",
       "      <th>25</th>\n",
       "      <td>Code review</td>\n",
       "      <td>Ensure your code meets quality standards and s...</td>\n",
       "      <td>https://github.com/topics/code-review</td>\n",
       "    </tr>\n",
       "    <tr>\n",
       "      <th>26</th>\n",
       "      <td>Compiler</td>\n",
       "      <td>Compilers are software that translate higher-l...</td>\n",
       "      <td>https://github.com/topics/compiler</td>\n",
       "    </tr>\n",
       "    <tr>\n",
       "      <th>27</th>\n",
       "      <td>Continuous integration</td>\n",
       "      <td>Automatically build and test your code as you ...</td>\n",
       "      <td>https://github.com/topics/continuous-integration</td>\n",
       "    </tr>\n",
       "    <tr>\n",
       "      <th>28</th>\n",
       "      <td>COVID-19</td>\n",
       "      <td>The coronavirus disease 2019 (COVID-19) is an ...</td>\n",
       "      <td>https://github.com/topics/covid-19</td>\n",
       "    </tr>\n",
       "    <tr>\n",
       "      <th>29</th>\n",
       "      <td>C++</td>\n",
       "      <td>C++ is a general purpose and object-oriented p...</td>\n",
       "      <td>https://github.com/topics/cpp</td>\n",
       "    </tr>\n",
       "  </tbody>\n",
       "</table>\n",
       "</div>"
      ],
      "text/plain": [
       "                     title                                        description  \\\n",
       "0                       3D  3D refers to the use of three-dimensional grap...   \n",
       "1                     Ajax  Ajax is a technique for creating interactive w...   \n",
       "2                Algorithm  Algorithms are self-contained sequences that c...   \n",
       "3                      Amp  Amp is a non-blocking concurrency library for ...   \n",
       "4                  Android  Android is an operating system built by Google...   \n",
       "5                  Angular  Angular is an open source web application plat...   \n",
       "6                  Ansible  Ansible is a simple and powerful automation en...   \n",
       "7                      API  An API (Application Programming Interface) is ...   \n",
       "8                  Arduino  Arduino is an open source platform for buildin...   \n",
       "9                  ASP.NET  ASP.NET is a web framework for building modern...   \n",
       "10                    Atom  Atom is a open source text editor built with w...   \n",
       "11           Awesome Lists  An awesome list is a list of awesome things cu...   \n",
       "12     Amazon Web Services  Amazon Web Services provides on-demand cloud c...   \n",
       "13                   Azure  Azure is a cloud computing service created by ...   \n",
       "14                   Babel  Babel is a compiler for writing next generatio...   \n",
       "15                    Bash  Bash is a shell and command language interpret...   \n",
       "16                 Bitcoin  Bitcoin is a cryptocurrency developed by Satos...   \n",
       "17               Bootstrap  Bootstrap is an HTML, CSS, and JavaScript fram...   \n",
       "18                     Bot  A bot is an application that runs automated ta...   \n",
       "19                       C  C is a general purpose programming language th...   \n",
       "20                  Chrome  Chrome is a web browser from the tech company ...   \n",
       "21        Chrome extension  Chrome extensions enable users to customize th...   \n",
       "22  Command line interface  A CLI, or command-line interface, is a console...   \n",
       "23                 Clojure  Clojure is a dynamic, general-purpose programm...   \n",
       "24            Code quality  Automate your code review with style, quality,...   \n",
       "25             Code review  Ensure your code meets quality standards and s...   \n",
       "26                Compiler  Compilers are software that translate higher-l...   \n",
       "27  Continuous integration  Automatically build and test your code as you ...   \n",
       "28                COVID-19  The coronavirus disease 2019 (COVID-19) is an ...   \n",
       "29                     C++  C++ is a general purpose and object-oriented p...   \n",
       "\n",
       "                                                 url  \n",
       "0                       https://github.com/topics/3d  \n",
       "1                     https://github.com/topics/ajax  \n",
       "2                https://github.com/topics/algorithm  \n",
       "3                    https://github.com/topics/amphp  \n",
       "4                  https://github.com/topics/android  \n",
       "5                  https://github.com/topics/angular  \n",
       "6                  https://github.com/topics/ansible  \n",
       "7                      https://github.com/topics/api  \n",
       "8                  https://github.com/topics/arduino  \n",
       "9                   https://github.com/topics/aspnet  \n",
       "10                    https://github.com/topics/atom  \n",
       "11                 https://github.com/topics/awesome  \n",
       "12                     https://github.com/topics/aws  \n",
       "13                   https://github.com/topics/azure  \n",
       "14                   https://github.com/topics/babel  \n",
       "15                    https://github.com/topics/bash  \n",
       "16                 https://github.com/topics/bitcoin  \n",
       "17               https://github.com/topics/bootstrap  \n",
       "18                     https://github.com/topics/bot  \n",
       "19                       https://github.com/topics/c  \n",
       "20                  https://github.com/topics/chrome  \n",
       "21        https://github.com/topics/chrome-extension  \n",
       "22                     https://github.com/topics/cli  \n",
       "23                 https://github.com/topics/clojure  \n",
       "24            https://github.com/topics/code-quality  \n",
       "25             https://github.com/topics/code-review  \n",
       "26                https://github.com/topics/compiler  \n",
       "27  https://github.com/topics/continuous-integration  \n",
       "28                https://github.com/topics/covid-19  \n",
       "29                     https://github.com/topics/cpp  "
      ]
     },
     "execution_count": 77,
     "metadata": {},
     "output_type": "execute_result"
    }
   ],
   "source": [
    "topics_df "
   ]
  },
  {
   "cell_type": "markdown",
   "id": "b9bea5d4-89f6-480f-9f2b-b6d5242d6848",
   "metadata": {},
   "source": [
    "## Creating a CSV from the information "
   ]
  },
  {
   "cell_type": "code",
   "execution_count": 79,
   "id": "c8def8bd-5956-4100-8687-5cdcefdae807",
   "metadata": {},
   "outputs": [],
   "source": [
    "topics_df.to_csv('topic.csv', index = None)"
   ]
  },
  {
   "cell_type": "code",
   "execution_count": null,
   "id": "bc17244e-9e93-412d-97b8-964b73e387b4",
   "metadata": {},
   "outputs": [],
   "source": []
  },
  {
   "cell_type": "markdown",
   "id": "c10064b0-4909-41ae-bf98-a4a787f7a3d4",
   "metadata": {},
   "source": [
    "## Getting information out of a topic page "
   ]
  },
  {
   "cell_type": "code",
   "execution_count": 80,
   "id": "d631a5ec-b7b6-461f-b7f3-b3727c9ece01",
   "metadata": {},
   "outputs": [],
   "source": [
    "topic_page_url = topic_urls[0]"
   ]
  },
  {
   "cell_type": "code",
   "execution_count": 81,
   "id": "e504e1d2-cad0-411f-93f1-f94fdc252a4a",
   "metadata": {},
   "outputs": [
    {
     "data": {
      "text/plain": [
       "'https://github.com/topics/3d'"
      ]
     },
     "execution_count": 81,
     "metadata": {},
     "output_type": "execute_result"
    }
   ],
   "source": [
    "topic_page_url "
   ]
  },
  {
   "cell_type": "code",
   "execution_count": 82,
   "id": "5ba07544-85c7-4ebf-acb1-b3206fa8042c",
   "metadata": {},
   "outputs": [],
   "source": [
    "response = requests.get(topic_page_url) "
   ]
  },
  {
   "cell_type": "code",
   "execution_count": 83,
   "id": "23ee4373-7de1-47c2-9a94-262fc8615d5f",
   "metadata": {},
   "outputs": [
    {
     "data": {
      "text/plain": [
       "200"
      ]
     },
     "execution_count": 83,
     "metadata": {},
     "output_type": "execute_result"
    }
   ],
   "source": [
    "response.status_code "
   ]
  },
  {
   "cell_type": "code",
   "execution_count": 84,
   "id": "9e9573f5-32fb-47b3-9322-72a32c887ffd",
   "metadata": {},
   "outputs": [
    {
     "data": {
      "text/plain": [
       "488672"
      ]
     },
     "execution_count": 84,
     "metadata": {},
     "output_type": "execute_result"
    }
   ],
   "source": [
    "len(response.text)"
   ]
  },
  {
   "cell_type": "code",
   "execution_count": 85,
   "id": "2ba69b2f-fd9d-46d5-b477-af5c840efb37",
   "metadata": {},
   "outputs": [],
   "source": [
    "topic_doc = BeautifulSoup(response.text, 'html.parser') "
   ]
  },
  {
   "cell_type": "code",
   "execution_count": 142,
   "id": "c5d7dcf7-9fd6-4011-bec3-cb37bcf74c83",
   "metadata": {},
   "outputs": [],
   "source": [
    "h3_selection_class = 'f3 color-fg-muted text-normal lh-condensed'\n",
    "repo_tags = topic_doc.find_all('h3', {'class': h3_selection_class}) "
   ]
  },
  {
   "cell_type": "code",
   "execution_count": 143,
   "id": "941f5c7c-a584-4d75-bc3f-3cfe27dc15e3",
   "metadata": {},
   "outputs": [
    {
     "data": {
      "text/plain": [
       "20"
      ]
     },
     "execution_count": 143,
     "metadata": {},
     "output_type": "execute_result"
    }
   ],
   "source": [
    "len(repo_tags)"
   ]
  },
  {
   "cell_type": "code",
   "execution_count": 133,
   "id": "518e60ef-e727-4ed3-9eab-00bb4bf58ac4",
   "metadata": {},
   "outputs": [],
   "source": [
    "a_tags = repo_tags[0].find_all('a')"
   ]
  },
  {
   "cell_type": "code",
   "execution_count": 134,
   "id": "ea6aabf9-f035-4851-ac20-65efd05609f8",
   "metadata": {},
   "outputs": [
    {
     "data": {
      "text/plain": [
       "'mrdoob'"
      ]
     },
     "execution_count": 134,
     "metadata": {},
     "output_type": "execute_result"
    }
   ],
   "source": [
    "a_tags[0].text.strip()"
   ]
  },
  {
   "cell_type": "code",
   "execution_count": 135,
   "id": "509547a9-3afd-4f4c-a5bc-5835cdeea40f",
   "metadata": {},
   "outputs": [
    {
     "data": {
      "text/plain": [
       "'three.js'"
      ]
     },
     "execution_count": 135,
     "metadata": {},
     "output_type": "execute_result"
    }
   ],
   "source": [
    "a_tags[1].text.strip()"
   ]
  },
  {
   "cell_type": "code",
   "execution_count": 108,
   "id": "b842f4d5-fc20-4dc4-9503-0a82a574d503",
   "metadata": {},
   "outputs": [
    {
     "name": "stdout",
     "output_type": "stream",
     "text": [
      "https://github.com/mrdoob/three.js\n"
     ]
    }
   ],
   "source": [
    "base_url = 'https://github.com'\n",
    "\n",
    "repo_url = base_url + a_tags[1]['href']\n",
    "print(repo_url)"
   ]
  },
  {
   "cell_type": "code",
   "execution_count": 159,
   "id": "a13d2943-4827-4974-9a89-404f4c36efab",
   "metadata": {},
   "outputs": [],
   "source": [
    "star_tags = topic_doc.find_all('span', {'class' : 'Counter js-social-count'}) \n",
    "\n"
   ]
  },
  {
   "cell_type": "code",
   "execution_count": 160,
   "id": "db90cbea-b6a1-48ec-8426-cecfe4c7fcf4",
   "metadata": {},
   "outputs": [
    {
     "data": {
      "text/plain": [
       "20"
      ]
     },
     "execution_count": 160,
     "metadata": {},
     "output_type": "execute_result"
    }
   ],
   "source": [
    "len(star_tags)"
   ]
  },
  {
   "cell_type": "code",
   "execution_count": 210,
   "id": "4493bdb5-a354-4af8-b7ff-6fa4c78b0c86",
   "metadata": {},
   "outputs": [
    {
     "data": {
      "text/plain": [
       "<span aria-label=\"16456 users starred this repository\" class=\"Counter js-social-count\" data-plural-suffix=\"users starred this repository\" data-singular-suffix=\"user starred this repository\" data-turbo-replace=\"true\" data-view-component=\"true\" id=\"repo-stars-counter-star\" title=\"16,456\">16.5k</span>"
      ]
     },
     "execution_count": 210,
     "metadata": {},
     "output_type": "execute_result"
    }
   ],
   "source": [
    "star_tags[5]"
   ]
  },
  {
   "cell_type": "code",
   "execution_count": 212,
   "id": "9ef017c5-663c-490c-bb38-c23214e59f0e",
   "metadata": {},
   "outputs": [
    {
     "data": {
      "text/plain": [
       "'16.5k'"
      ]
     },
     "execution_count": 212,
     "metadata": {},
     "output_type": "execute_result"
    }
   ],
   "source": [
    "star_tags[5].text.strip()"
   ]
  },
  {
   "cell_type": "code",
   "execution_count": 204,
   "id": "e5242e39-dbda-4d8a-9f98-4b20dca372a7",
   "metadata": {},
   "outputs": [],
   "source": [
    "def parse_star_count(stars_str): \n",
    "    stars_str = stars_str.strip()\n",
    "    if stars_str[-1] == 'k' : \n",
    "        return int(float(stars_str[:-1]) * 1000)\n",
    "    return int(stars_str) "
   ]
  },
  {
   "cell_type": "code",
   "execution_count": 219,
   "id": "7eaf43b3-5cba-480f-9555-d3f38a2bbd64",
   "metadata": {},
   "outputs": [],
   "source": [
    "def get_repo_info(h3_tag, star_tag): \n",
    "    #returns required data \n",
    "    a_tags = h3_tag.find_all('a') \n",
    "    username = a_tags[0].text.strip() \n",
    "    repo_name = a_tags[1].text.strip()\n",
    "    repo_url = base_url + a_tags[1]['href']\n",
    "    stars = parse_star_count(star_tag.text.strip())\n",
    "    return username, repo_name, stars, repo_url "
   ]
  },
  {
   "cell_type": "code",
   "execution_count": 214,
   "id": "d30add27-c02e-4687-b29d-fe0b163236fd",
   "metadata": {},
   "outputs": [
    {
     "data": {
      "text/plain": [
       "16500"
      ]
     },
     "execution_count": 214,
     "metadata": {},
     "output_type": "execute_result"
    }
   ],
   "source": [
    "parse_star_count(star_tags[5].text.strip())"
   ]
  },
  {
   "cell_type": "code",
   "execution_count": 220,
   "id": "5dfed702-4612-4d26-8b43-d7e945753ee5",
   "metadata": {},
   "outputs": [
    {
     "data": {
      "text/plain": [
       "('mrdoob', 'three.js', 96300, 'https://github.com/mrdoob/three.js')"
      ]
     },
     "execution_count": 220,
     "metadata": {},
     "output_type": "execute_result"
    }
   ],
   "source": [
    "get_repo_info(repo_tags[0], star_tags[0]) "
   ]
  },
  {
   "cell_type": "code",
   "execution_count": 222,
   "id": "c24da962-8fe9-45ab-a132-baca35788d20",
   "metadata": {},
   "outputs": [],
   "source": [
    "topic_repos_dict = { \n",
    "    'username' : [], \n",
    "    'repo_name' : [], \n",
    "     'stars' : [], \n",
    "    'repo_url' : []\n",
    "}\n",
    "\n",
    "for i  in range(len(star_tags)):\n",
    "       repo_info = get_repo_info(repo_tags[i], star_tags[i])\n",
    "       topic_repos_dict['username'].append(repo_info[0])\n",
    "       topic_repos_dict['repo_name'].append(repo_info[1])\n",
    "       topic_repos_dict['stars'].append(repo_info[2])\n",
    "       topic_repos_dict['repo_url'].append(repo_info[3])\n",
    "      \n"
   ]
  },
  {
   "cell_type": "markdown",
   "id": "6c9e2a43-c33b-4117-a4f7-0af913ceb73f",
   "metadata": {},
   "source": [
    "### Final Code "
   ]
  },
  {
   "cell_type": "code",
   "execution_count": 399,
   "id": "7baac2dc-97e6-4629-9ccd-ea0800068e17",
   "metadata": {},
   "outputs": [],
   "source": [
    "import os\n",
    "\n",
    "def get_topic_page(topic_url):\n",
    "      #download page \n",
    "    response = requests.get(topic_url)\n",
    "    #check response time \n",
    "    if response.status_code != 200: \n",
    "        raise Exception('Failed to load page {}'.format(topic_url))\n",
    "    #parse using beautiful soup \n",
    "    topic_doc = BeautifulSoup(response.text, 'html.parser')\n",
    "    return topic_doc\n",
    "\n",
    "\n",
    "def get_repo_info(h3_tag, star_tag): \n",
    "    #returns required data \n",
    "    a_tags = h3_tag.find_all('a') \n",
    "    username = a_tags[0].text.strip() \n",
    "    repo_name = a_tags[1].text.strip()\n",
    "    repo_url = base_url + a_tags[1]['href']\n",
    "    stars = parse_star_count(star_tag.text.strip())\n",
    "    return username, repo_name, stars, repo_url \n",
    "\n",
    "\n",
    "import pandas as pd\n",
    "\n",
    "def get_topic_repos(topic_doc): \n",
    "    # get the h3 tags \n",
    "    h3_selection_class = 'f3 color-fg-muted text-normal lh-condensed'\n",
    "    repo_tags = topic_doc.find_all('h3', {'class': h3_selection_class}) \n",
    "    # get star tags \n",
    "    star_tags = topic_doc.find_all('span', {'class' : 'Counter js-social-count'}) \n",
    "\n",
    "    topic_repos_dict = { \n",
    "        'username' : [], \n",
    "        'repo_name' : [], \n",
    "        'stars' : [], \n",
    "        'repo_url' : []\n",
    "    }\n",
    "\n",
    "    for i in range(len(star_tags)):\n",
    "        repo_info = get_repo_info(repo_tags[i], star_tags[i])\n",
    "        topic_repos_dict['username'].append(repo_info[0])\n",
    "        topic_repos_dict['repo_name'].append(repo_info[1])\n",
    "        topic_repos_dict['stars'].append(repo_info[2])\n",
    "        topic_repos_dict['repo_url'].append(repo_info[3]) \n",
    "\n",
    "    return pd.DataFrame(topic_repos_dict)\n",
    "\n",
    "\n",
    "\n",
    "def scrape_topic(topic_url,topic_name):\n",
    "    fname = topic_name + '.csv'\n",
    "    if os.path.exists(fname):\n",
    "        print(\"The file {} already exists. Skipping....\".format(fname))\n",
    "        return \n",
    "        \n",
    "    topic_df = get_topic_repos(get_topic_page(topic_url))\n",
    "    topic_df.to_csv(fname, index=None)\n",
    "\n",
    "    \n",
    "\n",
    "\n",
    "\n",
    "\n",
    "\n",
    "\n",
    "\n",
    "\n",
    "\n",
    "\n",
    "    \n",
    "    \n",
    "        "
   ]
  },
  {
   "cell_type": "markdown",
   "id": "c96234bb-45cf-4c6b-b355-d7139f6fbf7a",
   "metadata": {},
   "source": [
    "### Write a single function for : \n",
    "1. Getting the list of topics from the topics page\n",
    "2. Getting the list of top repos from the individual topic pages\n",
    "3. For each topic, create a CSV of top repos for the topic "
   ]
  },
  {
   "cell_type": "code",
   "execution_count": 388,
   "id": "07e52c01-5cc9-4fdf-8de6-8ac55687b0c2",
   "metadata": {},
   "outputs": [],
   "source": [
    "def get_topic_titles(doc):\n",
    "    selection_class = 'f3 lh-condensed mb-0 mt-1 Link--primary'\n",
    "    topic_title_tags = doc.find_all('p', {'class': selection_class})\n",
    "    topic_titles = []\n",
    "    \n",
    "    for tag in topic_title_tags:\n",
    "        topic_titles.append(tag.text)\n",
    "    \n",
    "    return topic_titles\n",
    "\n",
    "\n",
    "def get_topic_descs(doc): \n",
    "    desc_selector = 'f5 color-fg-muted mb-0 mt-1'\n",
    "    topic_desc_tags = doc.find_all('p', {'class' : desc_selector})\n",
    "    topic_descs = []\n",
    "\n",
    "    for tag in topic_desc_tags:\n",
    "        topic_descs.append(tag.text.strip())\n",
    "\n",
    "    return topic_descs\n",
    "\n",
    "\n",
    "def get_topic_urls(doc):\n",
    "    topic_link_tags = doc.find_all('a', {'class' : 'no-underline flex-1 d-flex flex-column'})\n",
    "    topic_urls = []\n",
    "    base_url = 'https://github.com' \n",
    "\n",
    "    for tag in topic_link_tags: \n",
    "        topic_urls.append(base_url + tag['href'])\n",
    "\n",
    "    return topic_urls\n",
    "\n",
    "\n",
    "    \n",
    "def scrape_topics():\n",
    "    topics_url = 'https://github.com/topics'\n",
    "    response = requests.get(topics_url)\n",
    "    \n",
    "    if response.status_code != 200: \n",
    "        raise Exception('Failed to load page {}'.format(topics_url))\n",
    "\n",
    "    doc = BeautifulSoup(response.text, 'html.parser')\n",
    "\n",
    "    topics_dict = {\n",
    "        'title': get_topic_titles(doc), \n",
    "        'description': get_topic_descs(doc), \n",
    "        'url': get_topic_urls(doc)\n",
    "    }\n",
    "\n",
    "    return pd.DataFrame(topics_dict)\n",
    "    "
   ]
  },
  {
   "cell_type": "code",
   "execution_count": 394,
   "id": "6ff2fb11-ea63-4a4a-a98d-76645ea0c6b3",
   "metadata": {
    "scrolled": true
   },
   "outputs": [],
   "source": [
    "def scrape_topics_repos():\n",
    "    print('Scraping list of topics')\n",
    "    topics_df = scrape_topics()\n",
    "    for index, row in topics_df.iterrows():\n",
    "        print('Scraping top repositories for \"{}\"'.format(row['title']))\n",
    "        scrape_topic(row['url'], row['title'])"
   ]
  },
  {
   "cell_type": "code",
   "execution_count": 401,
   "id": "315f740e-416f-4468-807e-6697af72d212",
   "metadata": {},
   "outputs": [
    {
     "name": "stdout",
     "output_type": "stream",
     "text": [
      "Scraping top repositories for \"3D\"\n",
      "The file 3D.csv already exists. Skipping....\n",
      "Scraping top repositories for \"Ajax\"\n",
      "The file Ajax.csv already exists. Skipping....\n",
      "Scraping top repositories for \"Algorithm\"\n",
      "The file Algorithm.csv already exists. Skipping....\n",
      "Scraping top repositories for \"Amp\"\n",
      "The file Amp.csv already exists. Skipping....\n",
      "Scraping top repositories for \"Android\"\n",
      "The file Android.csv already exists. Skipping....\n",
      "Scraping top repositories for \"Angular\"\n",
      "The file Angular.csv already exists. Skipping....\n",
      "Scraping top repositories for \"Ansible\"\n",
      "The file Ansible.csv already exists. Skipping....\n",
      "Scraping top repositories for \"API\"\n",
      "The file API.csv already exists. Skipping....\n",
      "Scraping top repositories for \"Arduino\"\n",
      "The file Arduino.csv already exists. Skipping....\n",
      "Scraping top repositories for \"ASP.NET\"\n",
      "The file ASP.NET.csv already exists. Skipping....\n",
      "Scraping top repositories for \"Atom\"\n",
      "The file Atom.csv already exists. Skipping....\n",
      "Scraping top repositories for \"Awesome Lists\"\n",
      "The file Awesome Lists.csv already exists. Skipping....\n",
      "Scraping top repositories for \"Amazon Web Services\"\n",
      "The file Amazon Web Services.csv already exists. Skipping....\n",
      "Scraping top repositories for \"Azure\"\n",
      "The file Azure.csv already exists. Skipping....\n",
      "Scraping top repositories for \"Babel\"\n",
      "The file Babel.csv already exists. Skipping....\n",
      "Scraping top repositories for \"Bash\"\n",
      "The file Bash.csv already exists. Skipping....\n",
      "Scraping top repositories for \"Bitcoin\"\n",
      "The file Bitcoin.csv already exists. Skipping....\n",
      "Scraping top repositories for \"Bootstrap\"\n",
      "The file Bootstrap.csv already exists. Skipping....\n",
      "Scraping top repositories for \"Bot\"\n",
      "The file Bot.csv already exists. Skipping....\n",
      "Scraping top repositories for \"C\"\n",
      "The file C.csv already exists. Skipping....\n",
      "Scraping top repositories for \"Chrome\"\n",
      "The file Chrome.csv already exists. Skipping....\n",
      "Scraping top repositories for \"Chrome extension\"\n",
      "The file Chrome extension.csv already exists. Skipping....\n",
      "Scraping top repositories for \"Command line interface\"\n",
      "The file Command line interface.csv already exists. Skipping....\n",
      "Scraping top repositories for \"Clojure\"\n",
      "The file Clojure.csv already exists. Skipping....\n",
      "Scraping top repositories for \"Code quality\"\n",
      "The file Code quality.csv already exists. Skipping....\n",
      "Scraping top repositories for \"Code review\"\n",
      "The file Code review.csv already exists. Skipping....\n",
      "Scraping top repositories for \"Compiler\"\n",
      "The file Compiler.csv already exists. Skipping....\n",
      "Scraping top repositories for \"Continuous integration\"\n",
      "The file Continuous integration.csv already exists. Skipping....\n",
      "Scraping top repositories for \"COVID-19\"\n",
      "The file COVID-19.csv already exists. Skipping....\n",
      "Scraping top repositories for \"C++\"\n"
     ]
    }
   ],
   "source": [
    "scrape_topics_repos()"
   ]
  },
  {
   "cell_type": "code",
   "execution_count": 393,
   "id": "7b716f37-28da-48e9-a7d5-d19e55244415",
   "metadata": {},
   "outputs": [
    {
     "name": "stdout",
     "output_type": "stream",
     "text": [
      "3D https://github.com/topics/3d\n",
      "Ajax https://github.com/topics/ajax\n",
      "Algorithm https://github.com/topics/algorithm\n",
      "Amp https://github.com/topics/amphp\n",
      "Android https://github.com/topics/android\n",
      "Angular https://github.com/topics/angular\n",
      "Ansible https://github.com/topics/ansible\n",
      "API https://github.com/topics/api\n",
      "Arduino https://github.com/topics/arduino\n",
      "ASP.NET https://github.com/topics/aspnet\n",
      "Atom https://github.com/topics/atom\n",
      "Awesome Lists https://github.com/topics/awesome\n",
      "Amazon Web Services https://github.com/topics/aws\n",
      "Azure https://github.com/topics/azure\n",
      "Babel https://github.com/topics/babel\n",
      "Bash https://github.com/topics/bash\n",
      "Bitcoin https://github.com/topics/bitcoin\n",
      "Bootstrap https://github.com/topics/bootstrap\n",
      "Bot https://github.com/topics/bot\n",
      "C https://github.com/topics/c\n",
      "Chrome https://github.com/topics/chrome\n",
      "Chrome extension https://github.com/topics/chrome-extension\n",
      "Command line interface https://github.com/topics/cli\n",
      "Clojure https://github.com/topics/clojure\n",
      "Code quality https://github.com/topics/code-quality\n",
      "Code review https://github.com/topics/code-review\n",
      "Compiler https://github.com/topics/compiler\n",
      "Continuous integration https://github.com/topics/continuous-integration\n",
      "COVID-19 https://github.com/topics/covid-19\n",
      "C++ https://github.com/topics/cpp\n"
     ]
    }
   ],
   "source": [
    "for index, row in topics_df.iterrows():\n",
    "    print(row['title'], row['url'])"
   ]
  },
  {
   "cell_type": "code",
   "execution_count": null,
   "id": "b32d75ee-5987-4789-bc3f-6194efe90c20",
   "metadata": {},
   "outputs": [],
   "source": []
  },
  {
   "cell_type": "code",
   "execution_count": null,
   "id": "2596904b-a61c-4378-b6a8-bf2c12ac3425",
   "metadata": {},
   "outputs": [],
   "source": []
  },
  {
   "cell_type": "code",
   "execution_count": null,
   "id": "f63c0af3-4598-4200-bb9e-2c88e4889400",
   "metadata": {},
   "outputs": [],
   "source": []
  },
  {
   "cell_type": "code",
   "execution_count": null,
   "id": "63c185fa-71f5-44db-98b1-c9a3c91ce5aa",
   "metadata": {},
   "outputs": [],
   "source": []
  },
  {
   "cell_type": "code",
   "execution_count": null,
   "id": "4ccdb2bc-c5a9-4889-886a-df9a89ed6715",
   "metadata": {},
   "outputs": [],
   "source": []
  },
  {
   "cell_type": "code",
   "execution_count": null,
   "id": "f43e8b6a-1158-4a2f-a6ad-96c47055049c",
   "metadata": {},
   "outputs": [],
   "source": []
  },
  {
   "cell_type": "code",
   "execution_count": 223,
   "id": "19fa61eb-ea6f-4cfb-b716-ab9d8d42cc59",
   "metadata": {},
   "outputs": [
    {
     "data": {
      "text/plain": [
       "range(0, 20)"
      ]
     },
     "execution_count": 223,
     "metadata": {},
     "output_type": "execute_result"
    }
   ],
   "source": [
    "range(len(star_tags)) "
   ]
  },
  {
   "cell_type": "code",
   "execution_count": 227,
   "id": "3ccdbf55-1e87-435b-bbb7-703c63f57c50",
   "metadata": {},
   "outputs": [],
   "source": [
    "topic_repos_df = pd.DataFrame(topic_repos_dict)"
   ]
  },
  {
   "cell_type": "code",
   "execution_count": 305,
   "id": "597b460c-d7fe-4c36-a122-beb1f7c9b5a4",
   "metadata": {},
   "outputs": [
    {
     "data": {
      "text/html": [
       "<div>\n",
       "<style scoped>\n",
       "    .dataframe tbody tr th:only-of-type {\n",
       "        vertical-align: middle;\n",
       "    }\n",
       "\n",
       "    .dataframe tbody tr th {\n",
       "        vertical-align: top;\n",
       "    }\n",
       "\n",
       "    .dataframe thead th {\n",
       "        text-align: right;\n",
       "    }\n",
       "</style>\n",
       "<table border=\"1\" class=\"dataframe\">\n",
       "  <thead>\n",
       "    <tr style=\"text-align: right;\">\n",
       "      <th></th>\n",
       "      <th>username</th>\n",
       "      <th>repo_name</th>\n",
       "      <th>stars</th>\n",
       "      <th>repo_url</th>\n",
       "    </tr>\n",
       "  </thead>\n",
       "  <tbody>\n",
       "    <tr>\n",
       "      <th>0</th>\n",
       "      <td>mrdoob</td>\n",
       "      <td>three.js</td>\n",
       "      <td>96300</td>\n",
       "      <td>https://github.com/mrdoob/three.js</td>\n",
       "    </tr>\n",
       "    <tr>\n",
       "      <th>1</th>\n",
       "      <td>pmndrs</td>\n",
       "      <td>react-three-fiber</td>\n",
       "      <td>24700</td>\n",
       "      <td>https://github.com/pmndrs/react-three-fiber</td>\n",
       "    </tr>\n",
       "    <tr>\n",
       "      <th>2</th>\n",
       "      <td>libgdx</td>\n",
       "      <td>libgdx</td>\n",
       "      <td>22300</td>\n",
       "      <td>https://github.com/libgdx/libgdx</td>\n",
       "    </tr>\n",
       "    <tr>\n",
       "      <th>3</th>\n",
       "      <td>BabylonJS</td>\n",
       "      <td>Babylon.js</td>\n",
       "      <td>21800</td>\n",
       "      <td>https://github.com/BabylonJS/Babylon.js</td>\n",
       "    </tr>\n",
       "    <tr>\n",
       "      <th>4</th>\n",
       "      <td>ssloy</td>\n",
       "      <td>tinyrenderer</td>\n",
       "      <td>18500</td>\n",
       "      <td>https://github.com/ssloy/tinyrenderer</td>\n",
       "    </tr>\n",
       "    <tr>\n",
       "      <th>5</th>\n",
       "      <td>lettier</td>\n",
       "      <td>3d-game-shaders-for-beginners</td>\n",
       "      <td>16500</td>\n",
       "      <td>https://github.com/lettier/3d-game-shaders-for...</td>\n",
       "    </tr>\n",
       "    <tr>\n",
       "      <th>6</th>\n",
       "      <td>FreeCAD</td>\n",
       "      <td>FreeCAD</td>\n",
       "      <td>16000</td>\n",
       "      <td>https://github.com/FreeCAD/FreeCAD</td>\n",
       "    </tr>\n",
       "    <tr>\n",
       "      <th>7</th>\n",
       "      <td>aframevr</td>\n",
       "      <td>aframe</td>\n",
       "      <td>15900</td>\n",
       "      <td>https://github.com/aframevr/aframe</td>\n",
       "    </tr>\n",
       "    <tr>\n",
       "      <th>8</th>\n",
       "      <td>CesiumGS</td>\n",
       "      <td>cesium</td>\n",
       "      <td>11300</td>\n",
       "      <td>https://github.com/CesiumGS/cesium</td>\n",
       "    </tr>\n",
       "    <tr>\n",
       "      <th>9</th>\n",
       "      <td>MonoGame</td>\n",
       "      <td>MonoGame</td>\n",
       "      <td>10400</td>\n",
       "      <td>https://github.com/MonoGame/MonoGame</td>\n",
       "    </tr>\n",
       "    <tr>\n",
       "      <th>10</th>\n",
       "      <td>blender</td>\n",
       "      <td>blender</td>\n",
       "      <td>10400</td>\n",
       "      <td>https://github.com/blender/blender</td>\n",
       "    </tr>\n",
       "    <tr>\n",
       "      <th>11</th>\n",
       "      <td>metafizzy</td>\n",
       "      <td>zdog</td>\n",
       "      <td>10100</td>\n",
       "      <td>https://github.com/metafizzy/zdog</td>\n",
       "    </tr>\n",
       "    <tr>\n",
       "      <th>12</th>\n",
       "      <td>isl-org</td>\n",
       "      <td>Open3D</td>\n",
       "      <td>9800</td>\n",
       "      <td>https://github.com/isl-org/Open3D</td>\n",
       "    </tr>\n",
       "    <tr>\n",
       "      <th>13</th>\n",
       "      <td>timzhang642</td>\n",
       "      <td>3D-Machine-Learning</td>\n",
       "      <td>9300</td>\n",
       "      <td>https://github.com/timzhang642/3D-Machine-Lear...</td>\n",
       "    </tr>\n",
       "    <tr>\n",
       "      <th>14</th>\n",
       "      <td>a1studmuffin</td>\n",
       "      <td>SpaceshipGenerator</td>\n",
       "      <td>7500</td>\n",
       "      <td>https://github.com/a1studmuffin/SpaceshipGener...</td>\n",
       "    </tr>\n",
       "    <tr>\n",
       "      <th>15</th>\n",
       "      <td>nerfstudio-project</td>\n",
       "      <td>nerfstudio</td>\n",
       "      <td>7200</td>\n",
       "      <td>https://github.com/nerfstudio-project/nerfstudio</td>\n",
       "    </tr>\n",
       "    <tr>\n",
       "      <th>16</th>\n",
       "      <td>domlysz</td>\n",
       "      <td>BlenderGIS</td>\n",
       "      <td>6900</td>\n",
       "      <td>https://github.com/domlysz/BlenderGIS</td>\n",
       "    </tr>\n",
       "    <tr>\n",
       "      <th>17</th>\n",
       "      <td>FyroxEngine</td>\n",
       "      <td>Fyrox</td>\n",
       "      <td>6800</td>\n",
       "      <td>https://github.com/FyroxEngine/Fyrox</td>\n",
       "    </tr>\n",
       "    <tr>\n",
       "      <th>18</th>\n",
       "      <td>google</td>\n",
       "      <td>model-viewer</td>\n",
       "      <td>6200</td>\n",
       "      <td>https://github.com/google/model-viewer</td>\n",
       "    </tr>\n",
       "    <tr>\n",
       "      <th>19</th>\n",
       "      <td>openscad</td>\n",
       "      <td>openscad</td>\n",
       "      <td>6100</td>\n",
       "      <td>https://github.com/openscad/openscad</td>\n",
       "    </tr>\n",
       "  </tbody>\n",
       "</table>\n",
       "</div>"
      ],
      "text/plain": [
       "              username                      repo_name  stars  \\\n",
       "0               mrdoob                       three.js  96300   \n",
       "1               pmndrs              react-three-fiber  24700   \n",
       "2               libgdx                         libgdx  22300   \n",
       "3            BabylonJS                     Babylon.js  21800   \n",
       "4                ssloy                   tinyrenderer  18500   \n",
       "5              lettier  3d-game-shaders-for-beginners  16500   \n",
       "6              FreeCAD                        FreeCAD  16000   \n",
       "7             aframevr                         aframe  15900   \n",
       "8             CesiumGS                         cesium  11300   \n",
       "9             MonoGame                       MonoGame  10400   \n",
       "10             blender                        blender  10400   \n",
       "11           metafizzy                           zdog  10100   \n",
       "12             isl-org                         Open3D   9800   \n",
       "13         timzhang642            3D-Machine-Learning   9300   \n",
       "14        a1studmuffin             SpaceshipGenerator   7500   \n",
       "15  nerfstudio-project                     nerfstudio   7200   \n",
       "16             domlysz                     BlenderGIS   6900   \n",
       "17         FyroxEngine                          Fyrox   6800   \n",
       "18              google                   model-viewer   6200   \n",
       "19            openscad                       openscad   6100   \n",
       "\n",
       "                                             repo_url  \n",
       "0                  https://github.com/mrdoob/three.js  \n",
       "1         https://github.com/pmndrs/react-three-fiber  \n",
       "2                    https://github.com/libgdx/libgdx  \n",
       "3             https://github.com/BabylonJS/Babylon.js  \n",
       "4               https://github.com/ssloy/tinyrenderer  \n",
       "5   https://github.com/lettier/3d-game-shaders-for...  \n",
       "6                  https://github.com/FreeCAD/FreeCAD  \n",
       "7                  https://github.com/aframevr/aframe  \n",
       "8                  https://github.com/CesiumGS/cesium  \n",
       "9                https://github.com/MonoGame/MonoGame  \n",
       "10                 https://github.com/blender/blender  \n",
       "11                  https://github.com/metafizzy/zdog  \n",
       "12                  https://github.com/isl-org/Open3D  \n",
       "13  https://github.com/timzhang642/3D-Machine-Lear...  \n",
       "14  https://github.com/a1studmuffin/SpaceshipGener...  \n",
       "15   https://github.com/nerfstudio-project/nerfstudio  \n",
       "16              https://github.com/domlysz/BlenderGIS  \n",
       "17               https://github.com/FyroxEngine/Fyrox  \n",
       "18             https://github.com/google/model-viewer  \n",
       "19               https://github.com/openscad/openscad  "
      ]
     },
     "execution_count": 305,
     "metadata": {},
     "output_type": "execute_result"
    }
   ],
   "source": [
    "topic_repos_df"
   ]
  },
  {
   "cell_type": "code",
   "execution_count": null,
   "id": "941fc251-eed2-4235-b014-54a41e916758",
   "metadata": {},
   "outputs": [],
   "source": []
  }
 ],
 "metadata": {
  "kernelspec": {
   "display_name": "Python 3 (ipykernel)",
   "language": "python",
   "name": "python3"
  },
  "language_info": {
   "codemirror_mode": {
    "name": "ipython",
    "version": 3
   },
   "file_extension": ".py",
   "mimetype": "text/x-python",
   "name": "python",
   "nbconvert_exporter": "python",
   "pygments_lexer": "ipython3",
   "version": "3.12.0"
  }
 },
 "nbformat": 4,
 "nbformat_minor": 5
}
